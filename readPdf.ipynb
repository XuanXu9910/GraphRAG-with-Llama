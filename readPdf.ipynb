{
 "cells": [
  {
   "cell_type": "code",
   "execution_count": 9,
   "metadata": {},
   "outputs": [],
   "source": [
    "from PyPDF2 import PdfReader\n",
    "\n",
    "pdf_path = \"./esgReport/input/Asia Cement Corporation.pdf\"\n",
    "reader = PdfReader(pdf_path)\n",
    "\n",
    "# 指定需要處理的頁面範圍，例如第 2 到第 4 頁（索引從 0 開始）\n",
    "start_page = 0\n",
    "end_page = 5\n",
    "\n",
    "\n",
    "text = \"\"\n",
    "for page_number in range(start_page, end_page):\n",
    "    page = reader.pages[page_number]\n",
    "    text += page.extract_text()\n",
    "\n",
    "with open(\"./esgReport/output_pypdf/Asia Cement Corporation.txt\", \"w\", encoding=\"utf-8\") as file:\n",
    "    file.write(text)"
   ]
  },
  {
   "cell_type": "code",
   "execution_count": 7,
   "metadata": {},
   "outputs": [],
   "source": [
    "from pdfminer.high_level import extract_text\n",
    "\n",
    "\n",
    "pdf_path = \"./esgReport/input/Asia Cement Corporation.pdf\"\n",
    "text = extract_text(pdf_path, page_numbers=range(6, 7))\n",
    "\n",
    "with open(\"./esgReport/output_pdfminer/Asia Cement Corporation.txt\", \"w\", encoding=\"utf-8\") as file:\n",
    "    file.write(text)"
   ]
  },
  {
   "cell_type": "code",
   "execution_count": 1,
   "metadata": {},
   "outputs": [],
   "source": [
    "from pdf2image import convert_from_path\n",
    "import pytesseract\n",
    "from PIL import Image\n",
    "\n",
    "# 設置 Tesseract 的路徑（Windows 用戶需要這步）\n",
    "pytesseract.pytesseract.tesseract_cmd = r'C:\\Program Files\\Tesseract-OCR\\tesseract.exe'\n",
    "\n",
    "# 指定需要處理的頁面範圍，例如第 2 到第 4 頁（索引從 1 開始）\n",
    "start_page = 0\n",
    "end_page = 4\n",
    "\n",
    "# 將 PDF 轉換為圖片\n",
    "images = convert_from_path(\"./esgReport/input/Asia Cement Corporation.pdf\", first_page=start_page, last_page=end_page)\n",
    "\n",
    "# 循環處理每一頁圖片\n",
    "text = \"\"\n",
    "for i, image in enumerate(images):\n",
    "    # 提取圖片中的文字\n",
    "    page_text = pytesseract.image_to_string(image, lang='eng')\n",
    "    text += f\"Page {i+1}:\\n{page_text}\\n\\n\"\n",
    "\n",
    "# 保存提取的文字到文件\n",
    "with open('./esgReport/output_tesseract/Asia Cement Corporation.txt', 'w', encoding='utf-8') as file:\n",
    "    file.write(text)\n"
   ]
  },
  {
   "cell_type": "code",
   "execution_count": 10,
   "metadata": {},
   "outputs": [],
   "source": [
    "import fitz  # PyMuPDF\n",
    "import pytesseract\n",
    "from PIL import Image\n",
    "import io\n",
    "\n",
    "# 設置 Tesseract 的路徑（Windows 用戶需要這步）\n",
    "pytesseract.pytesseract.tesseract_cmd = r'C:\\Program Files\\Tesseract-OCR\\tesseract.exe'\n",
    "\n",
    "# 打開 PDF 文件\n",
    "pdf_document = fitz.open(\"./esgReport/input/Asia Cement Corporation.pdf\")\n",
    "\n",
    "# 指定需要處理的頁面範圍，例如第 2 到第 4 頁（索引從 0 開始）\n",
    "start_page = 0\n",
    "end_page = 5\n",
    "\n",
    "# 循環處理每一頁圖片\n",
    "text = \"\"\n",
    "for page_number in range(start_page, end_page):\n",
    "    # 加載頁面\n",
    "    page = pdf_document.load_page(page_number)\n",
    "    \n",
    "    # 將頁面轉換為圖像\n",
    "    pix = page.get_pixmap()\n",
    "    image = Image.open(io.BytesIO(pix.tobytes()))\n",
    "\n",
    "    # 使用 Tesseract 提取文字\n",
    "    page_text = pytesseract.image_to_string(image, lang='eng')\n",
    "    text += f\"Page {page_number + 1}:{page_text}\\n\\n\"\n",
    "\n",
    "# 保存提取的文字到文件\n",
    "with open('./esgReport/output_tesseract/Asia Cement Corporation.txt', 'w', encoding='utf-8') as file:\n",
    "    file.write(text)\n",
    "\n",
    "# 關閉 PDF 文件\n",
    "pdf_document.close()\n"
   ]
  },
  {
   "cell_type": "code",
   "execution_count": 14,
   "metadata": {},
   "outputs": [
    {
     "data": {
      "text/plain": [
       "True"
      ]
     },
     "execution_count": 14,
     "metadata": {},
     "output_type": "execute_result"
    }
   ],
   "source": [
    "import pypdfium2 as pdfium\n",
    "import pytesseract\n",
    "from PIL import Image\n",
    "import io\n",
    "\n",
    "# 設置 Tesseract 的路徑（Windows 用戶需要這步）\n",
    "pytesseract.pytesseract.tesseract_cmd = r'C:\\Program Files\\Tesseract-OCR\\tesseract.exe'\n",
    "\n",
    "# 打開 PDF 文件\n",
    "pdf_document = pdfium.PdfDocument(\"./esgReport/input/Asia Cement Corporation.pdf\")\n",
    "\n",
    "# 指定需要處理的頁面範圍，例如第 2 到第 4 頁（索引從 0 開始）\n",
    "start_page = 1\n",
    "end_page = 4\n",
    "\n",
    "# 循環處理指定頁面的圖片\n",
    "text = \"\"\n",
    "for page_number in range(start_page, end_page):\n",
    "    # 加載頁面\n",
    "    page = pdf_document.get_page(page_number)\n",
    "    \n",
    "    # 渲染頁面為位圖\n",
    "    pil_image = page.render(scale=2).to_pil()\n",
    "\n",
    "    # 使用 Tesseract 提取文字\n",
    "    page_text = pytesseract.image_to_string(image, lang='eng')\n",
    "    text += f\"Page {page_number + 1}:{page_text}\\n\\n\"\n",
    "\n",
    "# 保存提取的文字到文件\n",
    "with open('./esgReport/output_tesseract/Asia Cement Corporation.txt', 'w', encoding='utf-8') as file:\n",
    "    file.write(text)\n",
    "\n",
    "# 關閉 PDF 文件\n",
    "pdf_document.close()\n"
   ]
  }
 ],
 "metadata": {
  "kernelspec": {
   "display_name": "readPDF",
   "language": "python",
   "name": "python3"
  },
  "language_info": {
   "codemirror_mode": {
    "name": "ipython",
    "version": 3
   },
   "file_extension": ".py",
   "mimetype": "text/x-python",
   "name": "python",
   "nbconvert_exporter": "python",
   "pygments_lexer": "ipython3",
   "version": "3.10.15"
  }
 },
 "nbformat": 4,
 "nbformat_minor": 2
}
